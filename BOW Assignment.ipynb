{
 "cells": [
  {
   "cell_type": "code",
   "execution_count": 1,
   "metadata": {},
   "outputs": [],
   "source": [
    "#importing the required libraries\n",
    "from sklearn.feature_extraction.text import CountVectorizer\n",
    "import pandas as pd\n",
    "from nltk.corpus import stopwords"
   ]
  },
  {
   "cell_type": "raw",
   "metadata": {},
   "source": [
    "Sentence 1= \n",
    "\n",
    "A school is an educational institution designed to provide learning spaces and learning environments for the teaching of students or pupils  under the direction of teachers. Most countries have systems of formal education, which is commonly compulsory. In these systems, students progress through a series of schools. The names for these schools vary by country (discussed in the Regional section below) but generally include primary school for young children and secondary school for teenagers who have completed primary education. An institution where higher education is taught, is commonly called a university college or university, but these higher education institutions are usually not compulsory."
   ]
  },
  {
   "cell_type": "code",
   "execution_count": 10,
   "metadata": {},
   "outputs": [
    {
     "name": "stdout",
     "output_type": "stream",
     "text": [
      "bag of words : ['called', 'children', 'college', 'commonly', 'completed', 'compulsory', 'countries', 'country', 'designed', 'direction', 'discussed', 'education', 'educational', 'environments', 'formal', 'generally', 'higher', 'include', 'institution', 'institutions', 'learning', 'names', 'primary', 'progress', 'provide', 'pupils', 'regional', 'school', 'schools', 'secondary', 'section', 'series', 'spaces', 'students', 'systems', 'taught', 'teachers', 'teaching', 'teenagers', 'university', 'usually', 'vary', 'young']\n"
     ]
    }
   ],
   "source": [
    "#operations on first sentence for bag of words\n",
    "sent1=[\"A school is an educational institution designed to provide learning spaces and learning environments for the teaching of students or pupils  under the direction of teachers. Most countries have systems of formal education, which is commonly compulsory. In these systems, students progress through a series of schools. The names for these schools vary by country (discussed in the Regional section below) but generally include primary school for young children and secondary school for teenagers who have completed primary education. An institution where higher education is taught, is commonly called a university college or university, but these higher education institutions are usually not compulsory.\"\n",
    "]\n",
    "stop_words = stopwords.words('english')\n",
    "vect1=CountVectorizer(stop_words=stop_words)\n",
    "\n",
    "vect1.fit_transform(sent1)\n",
    "print(\"bag of words :\",vect1.get_feature_names())"
   ]
  },
  {
   "cell_type": "raw",
   "metadata": {},
   "source": [
    "Sentence 2= \n",
    "\n",
    "A college (Latin: collegium) is an educational institution or a constituent part of one. A college may be a degree-awarding tertiary educational institution, a part of a collegiate or federal university, an institution offering vocational education, or a secondary school.In the United States, college may refer to a constituent part of a university or to a degree-awarding tertiary educational institution, but generally college and university are used interchangeably,[1] whereas in the United Kingdom, Oceania, South Asia, Southern Africa, most of Europe and Africa, and Canada, college may refer to a high school or secondary school, a college of further education, a training institution that awards trade qualifications, a higher-education provider that does not have university status (often without its own degree-awarding powers), or a constituent part of a university (see this comparison of British and American English educational terminology for further information)."
   ]
  },
  {
   "cell_type": "code",
   "execution_count": 13,
   "metadata": {},
   "outputs": [
    {
     "name": "stdout",
     "output_type": "stream",
     "text": [
      "bag of words : ['africa', 'american', 'asia', 'awarding', 'awards', 'british', 'canada', 'college', 'collegiate', 'collegium', 'comparison', 'constituent', 'degree', 'education', 'educational', 'english', 'europe', 'federal', 'generally', 'high', 'higher', 'information', 'institution', 'interchangeably', 'kingdom', 'latin', 'may', 'oceania', 'offering', 'often', 'one', 'part', 'powers', 'provider', 'qualifications', 'refer', 'school', 'secondary', 'see', 'south', 'southern', 'states', 'status', 'terminology', 'tertiary', 'trade', 'training', 'united', 'university', 'used', 'vocational', 'whereas', 'without']\n"
     ]
    }
   ],
   "source": [
    "#operations on 2nd sentence for bag of words\n",
    "sent2=[\"A college (Latin: collegium) is an educational institution or a constituent part of one. A college may be a degree-awarding tertiary educational institution, a part of a collegiate or federal university, an institution offering vocational education, or a secondary school.In the United States, college may refer to a constituent part of a university or to a degree-awarding tertiary educational institution, but generally college and university are used interchangeably,[1] whereas in the United Kingdom, Oceania, South Asia, Southern Africa, most of Europe and Africa, and Canada, college may refer to a high school or secondary school, a college of further education, a training institution that awards trade qualifications, a higher-education provider that does not have university status (often without its own degree-awarding powers), or a constituent part of a university (see this comparison of British and American English educational terminology for further information).\"]\n",
    "vect2=CountVectorizer(stop_words=stop_words)\n",
    "\n",
    "new=vect2.fit_transform(sent2)\n",
    "print(\"bag of words :\",vect2.get_feature_names())"
   ]
  },
  {
   "cell_type": "code",
   "execution_count": 15,
   "metadata": {},
   "outputs": [
    {
     "name": "stdout",
     "output_type": "stream",
     "text": [
      "Text Present at  [[2 1 1 3 1 1 1 6 1 1 1 3 3 3 4 1 1 1 1 1 1 1 5 1 1 1 3 1 1 1 1 4 1 1 1 2\n",
      "  3 2 1 1 1 1 1 1 2 1 1 2 5 1 1 1 1]]\n"
     ]
    }
   ],
   "source": [
    "#comparing the indexes\n",
    "\n",
    "print (\"Text Present at \",new.toarray())"
   ]
  },
  {
   "cell_type": "code",
   "execution_count": null,
   "metadata": {},
   "outputs": [],
   "source": []
  }
 ],
 "metadata": {
  "kernelspec": {
   "display_name": "Python 3",
   "language": "python",
   "name": "python3"
  },
  "language_info": {
   "codemirror_mode": {
    "name": "ipython",
    "version": 3
   },
   "file_extension": ".py",
   "mimetype": "text/x-python",
   "name": "python",
   "nbconvert_exporter": "python",
   "pygments_lexer": "ipython3",
   "version": "3.7.4"
  }
 },
 "nbformat": 4,
 "nbformat_minor": 2
}
