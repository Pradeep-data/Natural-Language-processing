{
 "cells": [
  {
   "cell_type": "markdown",
   "metadata": {},
   "source": [
    "## Coronavirus affect before and after its outbreak"
   ]
  },
  {
   "cell_type": "code",
   "execution_count": 15,
   "metadata": {},
   "outputs": [],
   "source": [
    "#Importing required libraries and modules\n",
    "from nltk.corpus import stopwords\n",
    "from nltk.tokenize import word_tokenize\n",
    "import string\n",
    "import matplotlib.pyplot as plt\n",
    "from collections import Counter"
   ]
  },
  {
   "cell_type": "code",
   "execution_count": 16,
   "metadata": {},
   "outputs": [],
   "source": [
    "def tweets():\n",
    "    import GetOldTweets3 as got\n",
    "    tweetCriteria=got.manager.TweetCriteria().setQuerySearch('Covid19') \\\n",
    "        .setSince(\"2020-02-27\") \\\n",
    "        .setUntil(\"2020-03-30\") \\\n",
    "        .setMaxTweets(100)\n",
    "    # Creation of list that contains all tweets\n",
    "    tweets = got.manager.TweetManager.getTweets(tweetCriteria)\n",
    "    # Creating list of chosen tweet data\n",
    "    text_tweets = [[tweet.text] for tweet in tweets]\n",
    "    return text_tweets"
   ]
  },
  {
   "cell_type": "code",
   "execution_count": 17,
   "metadata": {},
   "outputs": [],
   "source": [
    "text=\"\"\n",
    "text_tweets=tweets()\n",
    "length=len(text_tweets)\n",
    "for i in range(0,length):\n",
    "    text = text_tweets[i][0] + \" \" + text\n",
    "\n",
    "# converting to lowercase\n",
    "lower_case = text.lower()\n",
    "\n",
    "# Removing punctuations\n",
    "cleaned_text = lower_case.translate(str.maketrans('', '', string.punctuation))\n",
    "tokenized_words = word_tokenize(cleaned_text, \"english\")"
   ]
  },
  {
   "cell_type": "code",
   "execution_count": 18,
   "metadata": {},
   "outputs": [],
   "source": [
    "final_words=[]\n",
    "\n",
    "for word in tokenized_words:\n",
    "    if word not in stopwords.words('english'):\n",
    "        final_words.append(word)"
   ]
  },
  {
   "cell_type": "code",
   "execution_count": 19,
   "metadata": {},
   "outputs": [
    {
     "name": "stdout",
     "output_type": "stream",
     "text": [
      "Counter({' happy': 3, ' fearful': 2, ' attracted': 1, ' attached': 1, ' sad': 1, ' demoralized': 1, ' free': 1, ' hated': 1, ' independent': 1, ' adequate': 1, ' apathetic': 1})\n"
     ]
    }
   ],
   "source": [
    "emotion_list=[]\n",
    "with open('emotions.txt','r') as file:\n",
    "    for line in file:\n",
    "        clear_line=line.replace('\\n', '').replace(\",\", '').replace(\"'\", '').strip()\n",
    "        word,emotion=clear_line.split(':')\n",
    "        if word in final_words:\n",
    "            emotion_list.append(emotion)\n",
    "\n",
    "w1 = Counter(emotion_list)\n",
    "print(w1)"
   ]
  },
  {
   "cell_type": "code",
   "execution_count": 14,
   "metadata": {},
   "outputs": [
    {
     "data": {
      "image/png": "[encoded data removed]",
      "text/plain": [
       "<Figure size 432x288 with 1 Axes>"
      ]
     },
     "metadata": {
      "needs_background": "light"
     },
     "output_type": "display_data"
    }
   ],
   "source": [
    "fig, ax1 = plt.subplots()\n",
    "ax1.bar(w1.keys(), w1.values())\n",
    "fig.autofmt_xdate()\n",
    "plt.savefig('graph.png')\n",
    "plt.show()"
   ]
  },
  {
   "cell_type": "markdown",
   "metadata": {},
   "source": [
    "## After outbreak"
   ]
  },
  {
   "cell_type": "code",
   "execution_count": 20,
   "metadata": {},
   "outputs": [],
   "source": [
    "def after_tweets():\n",
    "    import GetOldTweets3 as got\n",
    "    tweetCriteria=got.manager.TweetCriteria().setQuerySearch('Covid19') \\\n",
    "        .setSince(\"2020-05-27\") \\\n",
    "        .setUntil(\"2020-06-30\") \\\n",
    "        .setMaxTweets(100)\n",
    "    # Creation of list that contains all tweets\n",
    "    tweets = got.manager.TweetManager.getTweets(tweetCriteria)\n",
    "    # Creating list of chosen tweet data\n",
    "    text_tweets = [[tweet.text] for tweet in tweets]\n",
    "    return text_tweets"
   ]
  },
  {
   "cell_type": "code",
   "execution_count": 21,
   "metadata": {},
   "outputs": [],
   "source": [
    "text=\"\"\n",
    "text_tweets=after_tweets()\n",
    "length=len(text_tweets)\n",
    "for i in range(0,length):\n",
    "    text = text_tweets[i][0] + \" \" + text\n",
    "\n",
    "# converting to lowercase\n",
    "lower_case = text.lower()\n",
    "\n",
    "# Removing punctuations\n",
    "cleaned_text = lower_case.translate(str.maketrans('', '', string.punctuation))\n",
    "tokenized_words = word_tokenize(cleaned_text, \"english\")"
   ]
  },
  {
   "cell_type": "code",
   "execution_count": 22,
   "metadata": {},
   "outputs": [],
   "source": [
    "final_words=[]\n",
    "\n",
    "for word in tokenized_words:\n",
    "    if word not in stopwords.words('english'):\n",
    "        final_words.append(word)"
   ]
  },
  {
   "cell_type": "code",
   "execution_count": 23,
   "metadata": {},
   "outputs": [
    {
     "name": "stdout",
     "output_type": "stream",
     "text": [
      "Counter({' attracted': 3, ' happy': 2, ' powerless': 2, ' sad': 1, ' free': 1, ' alone': 1, ' fearful': 1, ' average': 1})\n"
     ]
    }
   ],
   "source": [
    "emotion_list=[]\n",
    "with open('emotions.txt','r') as file:\n",
    "    for line in file:\n",
    "        clear_line=line.replace('\\n', '').replace(\",\", '').replace(\"'\", '').strip()\n",
    "        word,emotion=clear_line.split(':')\n",
    "        if word in final_words:\n",
    "            emotion_list.append(emotion)\n",
    "\n",
    "w2 = Counter(emotion_list)\n",
    "print(w2)"
   ]
  },
  {
   "cell_type": "code",
   "execution_count": 24,
   "metadata": {},
   "outputs": [
    {
     "data": {
      "image/png": "[encoded data removed]",
      "text/plain": [
       "<Figure size 432x288 with 1 Axes>"
      ]
     },
     "metadata": {
      "needs_background": "light"
     },
     "output_type": "display_data"
    }
   ],
   "source": [
    "fig, ax1 = plt.subplots()\n",
    "ax1.bar(w1.keys(), w1.values())\n",
    "fig.autofmt_xdate()\n",
    "plt.savefig('graph.png')\n",
    "plt.title(\"Graph before Covid outbreak\")\n",
    "plt.show()"
   ]
  },
  {
   "cell_type": "code",
   "execution_count": 25,
   "metadata": {},
   "outputs": [
    {
     "data": {
      "image/png": "[encoded data removed]",
      "text/plain": [
       "<Figure size 432x288 with 1 Axes>"
      ]
     },
     "metadata": {
      "needs_background": "light"
     },
     "output_type": "display_data"
    }
   ],
   "source": [
    "fig, ax1 = plt.subplots()\n",
    "ax1.bar(w2.keys(), w2.values())\n",
    "fig.autofmt_xdate()\n",
    "plt.savefig('graph.png')\n",
    "plt.title(\"Graph after Covid outbreak\")\n",
    "plt.show()"
   ]
  },
  {
   "cell_type": "markdown",
   "metadata": {},
   "source": [
    "As we see from both emotion graphs,there is much more diffrence which shows that people are more attracted to this pandemic as compared to before one and ratio of \"happy\" emotions also varied a lot."
   ]
  }
 ],
 "metadata": {
  "kernelspec": {
   "display_name": "Python 3",
   "language": "python",
   "name": "python3"
  },
  "language_info": {
   "codemirror_mode": {
    "name": "ipython",
    "version": 3
   },
   "file_extension": ".py",
   "mimetype": "text/x-python",
   "name": "python",
   "nbconvert_exporter": "python",
   "pygments_lexer": "ipython3",
   "version": "3.7.4"
  }
 },
 "nbformat": 4,
 "nbformat_minor": 2
}
