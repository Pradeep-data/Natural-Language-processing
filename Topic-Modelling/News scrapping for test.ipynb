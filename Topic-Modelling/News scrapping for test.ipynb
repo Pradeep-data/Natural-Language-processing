{
 "cells": [
  {
   "cell_type": "markdown",
   "metadata": {},
   "source": [
    "## News Scraping"
   ]
  },
  {
   "cell_type": "code",
   "execution_count": 1,
   "metadata": {},
   "outputs": [],
   "source": [
    "#importing required libraries\n",
    "import requests\n",
    "import urllib.request\n",
    "from bs4 import BeautifulSoup"
   ]
  },
  {
   "cell_type": "code",
   "execution_count": 2,
   "metadata": {},
   "outputs": [
    {
     "data": {
      "text/plain": [
       "<Response [200]>"
      ]
     },
     "execution_count": 2,
     "metadata": {},
     "output_type": "execute_result"
    }
   ],
   "source": [
    "#getting the url\n",
    "url=\"https://www.timesnownews.com/business-economy/economy/article/23-9-the-math-behind-the-troubling-contraction-in-gdp-and-what-happens-next/645869\"\n",
    "res=requests.get(url)\n",
    "res"
   ]
  },
  {
   "cell_type": "code",
   "execution_count": 3,
   "metadata": {},
   "outputs": [],
   "source": [
    "#creating the instance and save the data\n",
    "soup=BeautifulSoup(res.text,'html.parser')\n",
    "content = soup.find('div', {\"class\": \"artical-description\"})"
   ]
  },
  {
   "cell_type": "code",
   "execution_count": 4,
   "metadata": {},
   "outputs": [
    {
     "name": "stdout",
     "output_type": "stream",
     "text": [
      " On Monday, the government released economic data for the first quarter of the current fiscal year revealing a historic contraction of 23.9 per cent over the three months of April, May and June.  The COVID-19 outbreak, the subsequent lockdowns enforced by the central government and state governments, and the paralysis in business activity that they triggered, have led to the largest quarterly slump in India's GDP figures since such figures were first published (1996). India's GDP during the fourth quarter of the last fiscal stood at 3.1 per cent, with overall growth during the fiscal pegged at 5.2 per cent.  A contraction in India's GDP was largely expected by economists, however the majority had predicted a shrinkage no greater than 20 per cent. Moreover, the latest figures have also sparked suggestions that further downward revisions could be on the cards particularly because, given the lack of business activity that took place during the first quarter, there are concerns that data collection may not have been as robust as it is typically is.  A contraction of 23.9 per cent simply means that the total value of all goods and services fell by that proportion as compared the same three-month period last year. The government's data also shows that, with the exception of agriculture which grew at a rate of 3.4 per cent, every other sector of the economy contracted.  The distress was most acute in the mining (-23 per cent), construction (-50 per cent), trade, hospitality and other services (47 per cent) and manufacturing (-39 per cent) sectors – incidentally all sectors key to driving employment.  In terms of what has fuelled the downward trajectory of India's GDP, one needs to take a slightly deeper look at the economy's four primary engines of growth – consumption, government expenditure, investment and the nation's current account deficit (imports – exports).  Consumption, which typically has the greatest impact on GDP, in the last quarter accounted for 56.4 per cent of the country's GDP. Investment, also known as the the demand by private sector enterprises, made up 32 per cent of India's GDP. Government expenditure's share of the GDP stood at 11 per cent.  India's current account deficit has, historically, been in the negative, but recorded positive rates in the quarter that just past, implying that exports exceeded imports. While this may add positively to the GDP, it is, ultimately, a clear signal of muted demand with imports dropping to dire levels.  A drop of Rs 5,31,803 crore in private consumption or 27 per cent (compared to the same period last year) has been the key driver behind India's economic contraction. Private sector investment falling by Rs 5,33,003 crore follows closely behind, with the two components collectively accounting for 88 per cent of the total GDP shrinkage.  Government expenditure, in fact, rose by 16 per cent over the last quarter, specifically due to the relief measures instituted by the central government, but nevertheless could compensate for just 6 per cent of the total fall in demand instigated by the drop in consumption and investment. \n",
      "\n",
      "\n",
      "RELATED NEWS \n",
      "\n",
      "\n",
      "\n",
      "\n",
      "\n",
      "Retail, MSME borrowers may get 6-month moratorium on loan principal repayment\n",
      "\n",
      "\n",
      "\n",
      "\n",
      "\n",
      "\n",
      "Covid impact: India's Q1 GDP shrinks 23.9%, is the worst over?\n",
      "\n",
      "\n",
      "\n",
      "\n",
      "\n",
      "\n",
      "Rocking rally just a mirage or the beginning of a multi-year bull run? D-street experts remain divided\n",
      "\n",
      "\n",
      "\n",
      "\n",
      "\n",
      " In the absence of increased government expenditure, which doesn't appear to be on the horizon, several analysts have noted that further contractions could be on the cards in the upcoming quarters. If India records a contraction in the current quarter, it would have officially entered into a recession (defined as two consecutive quarters of contraction).  As for when India may begin to experience signs of an economic recovery, this will hinge entirely upon the way in which the COVID-19 outbreak evolves in the country in the coming weeks and months.  India added over two million cases of the infection over the last month indicating that the nation had not yet reached its peak. Despite this, the Centre has proceeded to implement further relaxations on mobility and business activity prompting fears of a resurgence of the infection, especially in key metros that have, over the last few months, come dangerously close to seeing their healthcare infrastructure buckle.  Moreover, as uncertainty and fear continues to linger, demand is also expected to remain muted leading to a sustained slump in business activity, and resultantly, an exacerbation of India's employment crisis. India's unemployment rates, according to latest data from the CMIE, have returned to near pre-COVID-19 levels however analysts have warned that further bloodloss in sectors like hospitality, construction, manufacturing and tourism may be on the cards. \n"
     ]
    }
   ],
   "source": [
    "#cleaning the data\n",
    "article = ''\n",
    "for i in content.findAll('p'):\n",
    "    article = article + ' ' +  i.text\n",
    "print(article)"
   ]
  },
  {
   "cell_type": "code",
   "execution_count": 5,
   "metadata": {},
   "outputs": [],
   "source": [
    "#saving the data\n",
    "with open('D:/Fliprobo/NLP class notebooks/New folder/news2.txt', 'w') as file:\n",
    "    file.write(article)"
   ]
  },
  {
   "cell_type": "markdown",
   "metadata": {},
   "source": [
    "### Scraping from 2nd topic"
   ]
  },
  {
   "cell_type": "code",
   "execution_count": 6,
   "metadata": {},
   "outputs": [
    {
     "data": {
      "text/plain": [
       "<Response [200]>"
      ]
     },
     "execution_count": 6,
     "metadata": {},
     "output_type": "execute_result"
    }
   ],
   "source": [
    "#getting the url\n",
    "url2=\"https://www.timesnownews.com/technology-science/article/googles-ai-flood-forecasting-initiative-now-expanded-to-all-parts-of-india-heres-how-it-helps/646340\"\n",
    "res2=requests.get(url2)\n",
    "res2"
   ]
  },
  {
   "cell_type": "code",
   "execution_count": 7,
   "metadata": {},
   "outputs": [
    {
     "name": "stdout",
     "output_type": "stream",
     "text": [
      "  On Monday, the government released economic data for the first quarter of the current fiscal year revealing a historic contraction of 23.9 per cent over the three months of April, May and June.  The COVID-19 outbreak, the subsequent lockdowns enforced by the central government and state governments, and the paralysis in business activity that they triggered, have led to the largest quarterly slump in India's GDP figures since such figures were first published (1996). India's GDP during the fourth quarter of the last fiscal stood at 3.1 per cent, with overall growth during the fiscal pegged at 5.2 per cent.  A contraction in India's GDP was largely expected by economists, however the majority had predicted a shrinkage no greater than 20 per cent. Moreover, the latest figures have also sparked suggestions that further downward revisions could be on the cards particularly because, given the lack of business activity that took place during the first quarter, there are concerns that data collection may not have been as robust as it is typically is.  A contraction of 23.9 per cent simply means that the total value of all goods and services fell by that proportion as compared the same three-month period last year. The government's data also shows that, with the exception of agriculture which grew at a rate of 3.4 per cent, every other sector of the economy contracted.  The distress was most acute in the mining (-23 per cent), construction (-50 per cent), trade, hospitality and other services (47 per cent) and manufacturing (-39 per cent) sectors – incidentally all sectors key to driving employment.  In terms of what has fuelled the downward trajectory of India's GDP, one needs to take a slightly deeper look at the economy's four primary engines of growth – consumption, government expenditure, investment and the nation's current account deficit (imports – exports).  Consumption, which typically has the greatest impact on GDP, in the last quarter accounted for 56.4 per cent of the country's GDP. Investment, also known as the the demand by private sector enterprises, made up 32 per cent of India's GDP. Government expenditure's share of the GDP stood at 11 per cent.  India's current account deficit has, historically, been in the negative, but recorded positive rates in the quarter that just past, implying that exports exceeded imports. While this may add positively to the GDP, it is, ultimately, a clear signal of muted demand with imports dropping to dire levels.  A drop of Rs 5,31,803 crore in private consumption or 27 per cent (compared to the same period last year) has been the key driver behind India's economic contraction. Private sector investment falling by Rs 5,33,003 crore follows closely behind, with the two components collectively accounting for 88 per cent of the total GDP shrinkage.  Government expenditure, in fact, rose by 16 per cent over the last quarter, specifically due to the relief measures instituted by the central government, but nevertheless could compensate for just 6 per cent of the total fall in demand instigated by the drop in consumption and investment. \n",
      "\n",
      "\n",
      "RELATED NEWS \n",
      "\n",
      "\n",
      "\n",
      "\n",
      "\n",
      "Retail, MSME borrowers may get 6-month moratorium on loan principal repayment\n",
      "\n",
      "\n",
      "\n",
      "\n",
      "\n",
      "\n",
      "Covid impact: India's Q1 GDP shrinks 23.9%, is the worst over?\n",
      "\n",
      "\n",
      "\n",
      "\n",
      "\n",
      "\n",
      "Rocking rally just a mirage or the beginning of a multi-year bull run? D-street experts remain divided\n",
      "\n",
      "\n",
      "\n",
      "\n",
      "\n",
      " In the absence of increased government expenditure, which doesn't appear to be on the horizon, several analysts have noted that further contractions could be on the cards in the upcoming quarters. If India records a contraction in the current quarter, it would have officially entered into a recession (defined as two consecutive quarters of contraction).  As for when India may begin to experience signs of an economic recovery, this will hinge entirely upon the way in which the COVID-19 outbreak evolves in the country in the coming weeks and months.  India added over two million cases of the infection over the last month indicating that the nation had not yet reached its peak. Despite this, the Centre has proceeded to implement further relaxations on mobility and business activity prompting fears of a resurgence of the infection, especially in key metros that have, over the last few months, come dangerously close to seeing their healthcare infrastructure buckle.  Moreover, as uncertainty and fear continues to linger, demand is also expected to remain muted leading to a sustained slump in business activity, and resultantly, an exacerbation of India's employment crisis. India's unemployment rates, according to latest data from the CMIE, have returned to near pre-COVID-19 levels however analysts have warned that further bloodloss in sectors like hospitality, construction, manufacturing and tourism may be on the cards.  Sensex and Nifty latest market news on ETNOWNEWS.COM. More news alerts on financial markets and investment strategies\n"
     ]
    }
   ],
   "source": [
    "#getting and preprocessing of data\n",
    "soup2=BeautifulSoup(res2.text,'html.parser')\n",
    "article2=\" \"\n",
    "for i in soup.find_all('p'):\n",
    "    article2 = article2 + ' ' +  i.text\n",
    "print(article2)"
   ]
  },
  {
   "cell_type": "code",
   "execution_count": 8,
   "metadata": {},
   "outputs": [],
   "source": [
    "#saving the data\n",
    "with open('D:/Fliprobo/NLP class notebooks/New folder/news2.txt', 'a') as file:\n",
    "    file.write(article2)"
   ]
  },
  {
   "cell_type": "markdown",
   "metadata": {},
   "source": [
    "### Scraping from 3rd topic"
   ]
  },
  {
   "cell_type": "code",
   "execution_count": 9,
   "metadata": {},
   "outputs": [
    {
     "data": {
      "text/plain": [
       "<Response [200]>"
      ]
     },
     "execution_count": 9,
     "metadata": {},
     "output_type": "execute_result"
    }
   ],
   "source": [
    "#getting the url\n",
    "url3=\"https://www.timesnownews.com/sports/cricket/article/suresh-raina-finally-breaks-his-silence-on-pulling-out-of-ipl-2020-refutes-reports-of-rift-with-ms-dhoni/646426\"\n",
    "res3=requests.get(url3)\n",
    "res3"
   ]
  },
  {
   "cell_type": "code",
   "execution_count": 10,
   "metadata": {},
   "outputs": [
    {
     "name": "stdout",
     "output_type": "stream",
     "text": [
      "  Suresh Raina, who is the second-highest run-scorer in the history of the Indian Premier League (IPL) took the Chennai Super  Kings (CSK) fans by surprise as he decided to pull out of the tournament. Raina, who cited 'personal reasons' behind him pulling out of the 13th edition, has returned to India and will no more be available for this season. It was reported that there was a 'rift' between MS Dhoni and Raina over the room that was allotted to the left-hander. Speaking to Outlook, Raina has spoken on the matter and has revealed what made him pull out the tournament. \"When the bio-bubble is not safe how does one take a chance? I have a family with two little kids -- and elderly parents. For me returning to the family was more important,\" Raina said. The decision wasn’t an easy one for Raina, who had been preparing for the tournament much before he left for Chennai. \"It was a tough decision. CSK is also like my family but when the face of my kids surfaced in Dubai and the COVID situation was not looking good, I decided to return,\" Mr. IPL said. Refuting reports of a rift with Dhoni, Raina added, “Mahibhai is like my elder brother. These are all fabricated stories.\" Raina also did not rule out the possibility of making a comeback in the tournament depending on the coronavirus situation in Dubai. \"I am a CSK player forever. If the situation gets better in Dubai, I may even return. The door is not closed on me,\" Raina said. Covid scare in CSK camp 13 members of the CSK contingent were tested positive for COVID-19 which has possibly led to a delay in the schedule of IPL 2020. Deepak Chahar and Ruturaj Gaekwad were two cricketers who tested positive while other members who tested positive were from CSK's support staff. Before leaving for Dubai, CSK had organised a five-day camp in Chennai - which has also come under the scanner after the recent developments in the CSK camp. It was during the five-day camp, on the evening of August 15, that Raina and Dhoni hung up their boots from international cricket. There was some confusion on Tuesday, where it was first reported that all CSK members have tested negative as per the tests conducted on Monday.  CSK CEO Kasi Viswanathan later confirmed to Times Now that all members have tested negative, except the 13 who had tested positive. \"There was confusion when asked about ‘all’ members' Covid tests. We didn’t take into account the already existing 13 cases.\r\n",
      "All contingent members have tested negative for COVID-19 except the original 13 who tested positive,\" he said. Get latest cricket updates, live scores, top sports news, match highlights of Cricket, Football, Tennis and other sports on TimesNow\n"
     ]
    }
   ],
   "source": [
    "#preprocessing the scrapped text\n",
    "soup=BeautifulSoup(res3.text,\"html.parser\")\n",
    "article3=\" \"\n",
    "for i in soup.find_all('p'):\n",
    "    article3 = article3 + ' ' +  i.text\n",
    "print(article3)"
   ]
  },
  {
   "cell_type": "code",
   "execution_count": 11,
   "metadata": {},
   "outputs": [],
   "source": [
    "#saving the data\n",
    "with open('D:/Fliprobo/NLP class notebooks/New folder/news2.txt', 'a') as file:\n",
    "    file.write(article3)"
   ]
  }
 ],
 "metadata": {
  "kernelspec": {
   "display_name": "Python 3",
   "language": "python",
   "name": "python3"
  },
  "language_info": {
   "codemirror_mode": {
    "name": "ipython",
    "version": 3
   },
   "file_extension": ".py",
   "mimetype": "text/x-python",
   "name": "python",
   "nbconvert_exporter": "python",
   "pygments_lexer": "ipython3",
   "version": "3.7.4"
  }
 },
 "nbformat": 4,
 "nbformat_minor": 2
}
