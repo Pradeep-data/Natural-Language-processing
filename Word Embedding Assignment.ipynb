{
 "cells": [
  {
   "cell_type": "code",
   "execution_count": 1,
   "metadata": {},
   "outputs": [],
   "source": [
    "import nltk\n",
    "import string\n",
    "from gensim.models import Word2Vec\n",
    "from nltk.corpus import stopwords\n",
    "import matplotlib.pyplot as plt\n",
    "%matplotlib inline\n",
    "import re"
   ]
  },
  {
   "cell_type": "code",
   "execution_count": 2,
   "metadata": {},
   "outputs": [],
   "source": [
    "passage=\"Independence Day 2020: Top 10 quotes of PM Modi from his speech India’s freedom struggle became a challenge to forces of expansionism while attempts were made for hundreds of years by various rulers to root out India’s culture and traditions. The idea of expansionism led to the enslavement of many countries but even in the midst of fierce wars, India did not falter in its freedom struggle.Amid COVID-19 pandemic, 130 crore Indians took the resolve to be self-reliant and ‘Aatmanirbhar Bharat’ is on the mind of India. This dream is turning into a pledge. Aatmanirbhar Bharat has become a ‘mantra’ for the 130 cr Indians today. I am confident that India will realise this dream. I am confident of the abilities, confidence and potential of my fellow Indians. Once we decide to do something, we do not rest until we achieve that goal.I agree that there are lakhs of challenges for Aatmanirbhar Bharat and they increase if there is global competitiveness. However, if there are lakhs of challenges then the country also has power which gives crores of solutions, my countrymen who give us the strength of solutions.The mindset of free India should be ‘vocal for local’. We should appreciate our local products, if we don’t do this then our products will not get the opportunity to do better and will not get encouraged.Today, many big companies are turning towards India. We have to move forward with the mantra of ‘Make for world’ along with ‘Make in India’.Whenever women received opportunity, they made India proud & strengthened it. Today, the nation is determined to provide equal opportunities of self-employment & employment to them. Today women are working in coal mines, our daughters are touching the sky while flying fighter plane.This one year is a year of the new journey of development for Jammu and Kashmir. This one year is the year of the rights received by the women and the Dalits in Jammu and Kashmir. This one year is also the year of a life of dignity for the refugees in Jammu and Kashmir.From LoC to LAC, whoever tried to raise their eyes towards the sovereignty of our country, our soldiers responded to it in the same manner. The world saw what our forces can do to protect India’s sovereignty in Ladakh. Protecting our sovereignty is supreme for us.Today’s neighbour is not just the one with whom we share a border but also those with whom our heart stays connected, where there is harmony in relations. I am happy that in the past some time India has further strengthened its relations with all countries in its extended neighbourhood.Construction of a grand Ram Temple in Ayodhya started 10 days ago. Ramjanmbhoomi issue that prevailed for centuries, has been resolved peacefully.The conduct of people of the country has been unprecedented and is an inspiration for the future.\""
   ]
  },
  {
   "cell_type": "code",
   "execution_count": 3,
   "metadata": {},
   "outputs": [],
   "source": [
    "text = re.sub(r'\\[[0-9]*\\]',' ',passage)\n",
    "text = re.sub(r'\\s+',' ',text)\n",
    "\n",
    "text = text.lower()\n",
    "text = re.sub(r'\\d',' ',text)\n",
    "text = re.sub(r'\\s+',' ',text)\n",
    "cleaned_text = text.translate(str.maketrans('', '', string.punctuation))"
   ]
  },
  {
   "cell_type": "code",
   "execution_count": 4,
   "metadata": {},
   "outputs": [
    {
     "data": {
      "text/plain": [
       "['independence day : top quotes of pm modi from his speech india’s freedom struggle became a challenge to forces of expansionism while attempts were made for hundreds of years by various rulers to root out india’s culture and traditions.',\n",
       " 'the idea of expansionism led to the enslavement of many countries but even in the midst of fierce wars, india did not falter in its freedom struggle.amid covid- pandemic, crore indians took the resolve to be self-reliant and ‘aatmanirbhar bharat’ is on the mind of india.',\n",
       " 'this dream is turning into a pledge.',\n",
       " 'aatmanirbhar bharat has become a ‘mantra’ for the cr indians today.',\n",
       " 'i am confident that india will realise this dream.',\n",
       " 'i am confident of the abilities, confidence and potential of my fellow indians.',\n",
       " 'once we decide to do something, we do not rest until we achieve that goal.i agree that there are lakhs of challenges for aatmanirbhar bharat and they increase if there is global competitiveness.',\n",
       " 'however, if there are lakhs of challenges then the country also has power which gives crores of solutions, my countrymen who give us the strength of solutions.the mindset of free india should be ‘vocal for local’.',\n",
       " 'we should appreciate our local products, if we don’t do this then our products will not get the opportunity to do better and will not get encouraged.today, many big companies are turning towards india.',\n",
       " 'we have to move forward with the mantra of ‘make for world’ along with ‘make in india’.whenever women received opportunity, they made india proud & strengthened it.',\n",
       " 'today, the nation is determined to provide equal opportunities of self-employment & employment to them.',\n",
       " 'today women are working in coal mines, our daughters are touching the sky while flying fighter plane.this one year is a year of the new journey of development for jammu and kashmir.',\n",
       " 'this one year is the year of the rights received by the women and the dalits in jammu and kashmir.',\n",
       " 'this one year is also the year of a life of dignity for the refugees in jammu and kashmir.from loc to lac, whoever tried to raise their eyes towards the sovereignty of our country, our soldiers responded to it in the same manner.',\n",
       " 'the world saw what our forces can do to protect india’s sovereignty in ladakh.',\n",
       " 'protecting our sovereignty is supreme for us.today’s neighbour is not just the one with whom we share a border but also those with whom our heart stays connected, where there is harmony in relations.',\n",
       " 'i am happy that in the past some time india has further strengthened its relations with all countries in its extended neighbourhood.construction of a grand ram temple in ayodhya started days ago.',\n",
       " 'ramjanmbhoomi issue that prevailed for centuries, has been resolved peacefully.the conduct of people of the country has been unprecedented and is an inspiration for the future.']"
      ]
     },
     "execution_count": 4,
     "metadata": {},
     "output_type": "execute_result"
    }
   ],
   "source": [
    "sentences = nltk.sent_tokenize(text)\n",
    "sentences"
   ]
  },
  {
   "cell_type": "code",
   "execution_count": 5,
   "metadata": {},
   "outputs": [],
   "source": [
    "sent_word = [nltk.word_tokenize(sentence) for sentence in sentences]"
   ]
  },
  {
   "cell_type": "code",
   "execution_count": 6,
   "metadata": {},
   "outputs": [],
   "source": [
    "for i in range(len(sent_word)):\n",
    "    sent_word[i] = [word for word in sent_word[i]\n",
    "                    if word not in stopwords.words('english')]"
   ]
  },
  {
   "cell_type": "code",
   "execution_count": 7,
   "metadata": {},
   "outputs": [
    {
     "data": {
      "text/plain": [
       "[['independence',\n",
       "  'day',\n",
       "  ':',\n",
       "  'top',\n",
       "  'quotes',\n",
       "  'pm',\n",
       "  'modi',\n",
       "  'speech',\n",
       "  'india',\n",
       "  '’',\n",
       "  'freedom',\n",
       "  'struggle',\n",
       "  'became',\n",
       "  'challenge',\n",
       "  'forces',\n",
       "  'expansionism',\n",
       "  'attempts',\n",
       "  'made',\n",
       "  'hundreds',\n",
       "  'years',\n",
       "  'various',\n",
       "  'rulers',\n",
       "  'root',\n",
       "  'india',\n",
       "  '’',\n",
       "  'culture',\n",
       "  'traditions',\n",
       "  '.'],\n",
       " ['idea',\n",
       "  'expansionism',\n",
       "  'led',\n",
       "  'enslavement',\n",
       "  'many',\n",
       "  'countries',\n",
       "  'even',\n",
       "  'midst',\n",
       "  'fierce',\n",
       "  'wars',\n",
       "  ',',\n",
       "  'india',\n",
       "  'falter',\n",
       "  'freedom',\n",
       "  'struggle.amid',\n",
       "  'covid-',\n",
       "  'pandemic',\n",
       "  ',',\n",
       "  'crore',\n",
       "  'indians',\n",
       "  'took',\n",
       "  'resolve',\n",
       "  'self-reliant',\n",
       "  '‘',\n",
       "  'aatmanirbhar',\n",
       "  'bharat',\n",
       "  '’',\n",
       "  'mind',\n",
       "  'india',\n",
       "  '.'],\n",
       " ['dream', 'turning', 'pledge', '.'],\n",
       " ['aatmanirbhar',\n",
       "  'bharat',\n",
       "  'become',\n",
       "  '‘',\n",
       "  'mantra',\n",
       "  '’',\n",
       "  'cr',\n",
       "  'indians',\n",
       "  'today',\n",
       "  '.'],\n",
       " ['confident', 'india', 'realise', 'dream', '.'],\n",
       " ['confident',\n",
       "  'abilities',\n",
       "  ',',\n",
       "  'confidence',\n",
       "  'potential',\n",
       "  'fellow',\n",
       "  'indians',\n",
       "  '.'],\n",
       " ['decide',\n",
       "  'something',\n",
       "  ',',\n",
       "  'rest',\n",
       "  'achieve',\n",
       "  'goal.i',\n",
       "  'agree',\n",
       "  'lakhs',\n",
       "  'challenges',\n",
       "  'aatmanirbhar',\n",
       "  'bharat',\n",
       "  'increase',\n",
       "  'global',\n",
       "  'competitiveness',\n",
       "  '.'],\n",
       " ['however',\n",
       "  ',',\n",
       "  'lakhs',\n",
       "  'challenges',\n",
       "  'country',\n",
       "  'also',\n",
       "  'power',\n",
       "  'gives',\n",
       "  'crores',\n",
       "  'solutions',\n",
       "  ',',\n",
       "  'countrymen',\n",
       "  'give',\n",
       "  'us',\n",
       "  'strength',\n",
       "  'solutions.the',\n",
       "  'mindset',\n",
       "  'free',\n",
       "  'india',\n",
       "  '‘',\n",
       "  'vocal',\n",
       "  'local',\n",
       "  '’',\n",
       "  '.'],\n",
       " ['appreciate',\n",
       "  'local',\n",
       "  'products',\n",
       "  ',',\n",
       "  '’',\n",
       "  'products',\n",
       "  'get',\n",
       "  'opportunity',\n",
       "  'better',\n",
       "  'get',\n",
       "  'encouraged.today',\n",
       "  ',',\n",
       "  'many',\n",
       "  'big',\n",
       "  'companies',\n",
       "  'turning',\n",
       "  'towards',\n",
       "  'india',\n",
       "  '.'],\n",
       " ['move',\n",
       "  'forward',\n",
       "  'mantra',\n",
       "  '‘',\n",
       "  'make',\n",
       "  'world',\n",
       "  '’',\n",
       "  'along',\n",
       "  '‘',\n",
       "  'make',\n",
       "  'india',\n",
       "  '’',\n",
       "  '.whenever',\n",
       "  'women',\n",
       "  'received',\n",
       "  'opportunity',\n",
       "  ',',\n",
       "  'made',\n",
       "  'india',\n",
       "  'proud',\n",
       "  '&',\n",
       "  'strengthened',\n",
       "  '.'],\n",
       " ['today',\n",
       "  ',',\n",
       "  'nation',\n",
       "  'determined',\n",
       "  'provide',\n",
       "  'equal',\n",
       "  'opportunities',\n",
       "  'self-employment',\n",
       "  '&',\n",
       "  'employment',\n",
       "  '.'],\n",
       " ['today',\n",
       "  'women',\n",
       "  'working',\n",
       "  'coal',\n",
       "  'mines',\n",
       "  ',',\n",
       "  'daughters',\n",
       "  'touching',\n",
       "  'sky',\n",
       "  'flying',\n",
       "  'fighter',\n",
       "  'plane.this',\n",
       "  'one',\n",
       "  'year',\n",
       "  'year',\n",
       "  'new',\n",
       "  'journey',\n",
       "  'development',\n",
       "  'jammu',\n",
       "  'kashmir',\n",
       "  '.'],\n",
       " ['one',\n",
       "  'year',\n",
       "  'year',\n",
       "  'rights',\n",
       "  'received',\n",
       "  'women',\n",
       "  'dalits',\n",
       "  'jammu',\n",
       "  'kashmir',\n",
       "  '.'],\n",
       " ['one',\n",
       "  'year',\n",
       "  'also',\n",
       "  'year',\n",
       "  'life',\n",
       "  'dignity',\n",
       "  'refugees',\n",
       "  'jammu',\n",
       "  'kashmir.from',\n",
       "  'loc',\n",
       "  'lac',\n",
       "  ',',\n",
       "  'whoever',\n",
       "  'tried',\n",
       "  'raise',\n",
       "  'eyes',\n",
       "  'towards',\n",
       "  'sovereignty',\n",
       "  'country',\n",
       "  ',',\n",
       "  'soldiers',\n",
       "  'responded',\n",
       "  'manner',\n",
       "  '.'],\n",
       " ['world',\n",
       "  'saw',\n",
       "  'forces',\n",
       "  'protect',\n",
       "  'india',\n",
       "  '’',\n",
       "  'sovereignty',\n",
       "  'ladakh',\n",
       "  '.'],\n",
       " ['protecting',\n",
       "  'sovereignty',\n",
       "  'supreme',\n",
       "  'us.today',\n",
       "  '’',\n",
       "  'neighbour',\n",
       "  'one',\n",
       "  'share',\n",
       "  'border',\n",
       "  'also',\n",
       "  'heart',\n",
       "  'stays',\n",
       "  'connected',\n",
       "  ',',\n",
       "  'harmony',\n",
       "  'relations',\n",
       "  '.'],\n",
       " ['happy',\n",
       "  'past',\n",
       "  'time',\n",
       "  'india',\n",
       "  'strengthened',\n",
       "  'relations',\n",
       "  'countries',\n",
       "  'extended',\n",
       "  'neighbourhood.construction',\n",
       "  'grand',\n",
       "  'ram',\n",
       "  'temple',\n",
       "  'ayodhya',\n",
       "  'started',\n",
       "  'days',\n",
       "  'ago',\n",
       "  '.'],\n",
       " ['ramjanmbhoomi',\n",
       "  'issue',\n",
       "  'prevailed',\n",
       "  'centuries',\n",
       "  ',',\n",
       "  'resolved',\n",
       "  'peacefully.the',\n",
       "  'conduct',\n",
       "  'people',\n",
       "  'country',\n",
       "  'unprecedented',\n",
       "  'inspiration',\n",
       "  'future',\n",
       "  '.']]"
      ]
     },
     "execution_count": 7,
     "metadata": {},
     "output_type": "execute_result"
    }
   ],
   "source": [
    "sent_word"
   ]
  },
  {
   "cell_type": "code",
   "execution_count": 8,
   "metadata": {},
   "outputs": [],
   "source": [
    "model = Word2Vec(sent_word, min_count=1)\n",
    "words = model.wv.vocab"
   ]
  },
  {
   "cell_type": "code",
   "execution_count": 9,
   "metadata": {},
   "outputs": [
    {
     "data": {
      "text/plain": [
       "[('neighbour', 0.26514264941215515),\n",
       " ('fighter', 0.24594078958034515),\n",
       " ('solutions', 0.24461624026298523),\n",
       " ('move', 0.22902682423591614),\n",
       " ('life', 0.21286211907863617),\n",
       " ('confidence', 0.20654860138893127),\n",
       " ('solutions.the', 0.20512054860591888),\n",
       " ('enslavement', 0.20333106815814972),\n",
       " (',', 0.1927444338798523),\n",
       " ('became', 0.1770506501197815)]"
      ]
     },
     "execution_count": 9,
     "metadata": {},
     "output_type": "execute_result"
    }
   ],
   "source": [
    "similar1 = model.wv.most_similar('struggle',topn=10)\n",
    "\n",
    "similar1"
   ]
  },
  {
   "cell_type": "code",
   "execution_count": 10,
   "metadata": {},
   "outputs": [
    {
     "data": {
      "text/plain": [
       "[('strength', 0.21717864274978638),\n",
       " ('share', 0.19896407425403595),\n",
       " ('solutions', 0.19516056776046753),\n",
       " ('even', 0.19195842742919922),\n",
       " ('forces', 0.1885025054216385),\n",
       " ('made', 0.18613851070404053),\n",
       " ('years', 0.18234914541244507),\n",
       " ('rulers', 0.18227902054786682),\n",
       " ('world', 0.17893335223197937),\n",
       " ('along', 0.1776285469532013)]"
      ]
     },
     "execution_count": 10,
     "metadata": {},
     "output_type": "execute_result"
    }
   ],
   "source": [
    "similar2 = model.wv.most_similar('independence',topn=10)\n",
    "\n",
    "similar2"
   ]
  },
  {
   "cell_type": "code",
   "execution_count": 11,
   "metadata": {},
   "outputs": [
    {
     "data": {
      "text/plain": [
       "[('many', 0.3132774233818054),\n",
       " ('neighbourhood.construction', 0.22580766677856445),\n",
       " ('kashmir.from', 0.22250986099243164),\n",
       " ('rights', 0.2096288502216339),\n",
       " ('ram', 0.20866185426712036),\n",
       " ('stays', 0.20335671305656433),\n",
       " ('pledge', 0.19229111075401306),\n",
       " ('covid-', 0.19189953804016113),\n",
       " ('sky', 0.19139915704727173),\n",
       " ('centuries', 0.17217659950256348)]"
      ]
     },
     "execution_count": 11,
     "metadata": {},
     "output_type": "execute_result"
    }
   ],
   "source": [
    "similar3 = model.wv.most_similar('speech',topn=10)\n",
    "\n",
    "similar3"
   ]
  },
  {
   "cell_type": "code",
   "execution_count": 13,
   "metadata": {},
   "outputs": [
    {
     "name": "stdout",
     "output_type": "stream",
     "text": [
      "[(',', 0.21070890128612518), ('potential', 0.1927923560142517), ('rights', 0.19083675742149353), ('dignity', 0.18842339515686035), ('stays', 0.18031296133995056), ('daughters', 0.17999956011772156), ('idea', 0.17927956581115723), ('self-reliant', 0.1629023551940918), ('responded', 0.15619729459285736), ('prevailed', 0.15207244455814362)]\n",
      "[('however', 0.30557018518447876), ('better', 0.26173317432403564), ('agree', 0.22148914635181427), ('became', 0.1980724036693573), ('daughters', 0.19642481207847595), ('hundreds', 0.19142530858516693), ('become', 0.19071996212005615), ('prevailed', 0.1880868524312973), ('mines', 0.18210051953792572), ('neighbour', 0.18131163716316223)]\n",
      "[('loc', 0.2482435703277588), ('mines', 0.23728686571121216), ('expansionism', 0.18919265270233154), ('crores', 0.1660718470811844), ('idea', 0.16228628158569336), ('new', 0.16205179691314697), ('quotes', 0.15732654929161072), ('abilities', 0.1406029909849167), ('plane.this', 0.13947109878063202), ('&', 0.13497593998908997)]\n",
      "[(':', 0.283263623714447), ('local', 0.22524727880954742), ('crore', 0.21695707738399506), ('saw', 0.20471857488155365), ('flying', 0.1721368432044983), ('share', 0.16748058795928955), ('traditions', 0.166002556681633), ('covid-', 0.15832912921905518), ('life', 0.15637415647506714), ('prevailed', 0.15311965346336365)]\n",
      "[('eyes', 0.20173373818397522), ('hundreds', 0.1925281137228012), ('development', 0.18398317694664001), ('crores', 0.17577746510505676), ('falter', 0.16846904158592224), ('rulers', 0.16477152705192566), ('prevailed', 0.1601886749267578), ('new', 0.1546662598848343), ('took', 0.15222883224487305), ('better', 0.1503048688173294)]\n",
      "[('temple', 0.267530620098114), ('unprecedented', 0.20116016268730164), ('agree', 0.19602791965007782), ('expansionism', 0.18137450516223907), ('received', 0.16592499613761902), ('solutions', 0.16137903928756714), ('india', 0.16068875789642334), ('better', 0.1537167727947235), ('rights', 0.14946231245994568), ('loc', 0.1487070620059967)]\n",
      "[('covid-', 0.26421523094177246), ('local', 0.2344973385334015), ('share', 0.22594934701919556), ('forces', 0.2257596254348755), ('ago', 0.19862720370292664), ('new', 0.18399931490421295), ('prevailed', 0.18104933202266693), ('led', 0.16635394096374512), ('&', 0.1640816032886505), ('saw', 0.16312551498413086)]\n",
      "[('resolve', 0.27772393822669983), ('protecting', 0.2557455897331238), ('neighbour', 0.23034799098968506), (':', 0.2245381772518158), ('inspiration', 0.21247795224189758), ('world', 0.20839902758598328), ('responded', 0.18059256672859192), ('forces', 0.17949114739894867), ('proud', 0.17125862836837769), ('journey', 0.15727868676185608)]\n",
      "[('idea', 0.32559823989868164), ('agree', 0.2502291202545166), ('however', 0.2481170892715454), ('determined', 0.21275100111961365), ('power', 0.18214397132396698), ('year', 0.17611633241176605), (':', 0.16518063843250275), ('forces', 0.16279134154319763), ('fierce', 0.15829169750213623), ('expansionism', 0.1572760045528412)]\n",
      "[('border', 0.2716178894042969), ('hundreds', 0.23731987178325653), ('daughters', 0.21539747714996338), ('tried', 0.213370218873024), ('fierce', 0.2099173665046692), ('crore', 0.2040477991104126), ('potential', 0.18293285369873047), ('ago', 0.1791118085384369), ('sky', 0.17246633768081665), ('loc', 0.1625499129295349)]\n",
      "[('.whenever', 0.2607802152633667), ('jammu', 0.17755937576293945), (':', 0.17429053783416748), ('various', 0.17246706783771515), ('fellow', 0.16481199860572815), ('year', 0.16069921851158142), ('connected', 0.15573373436927795), ('strength', 0.1461452841758728), ('whoever', 0.1443655788898468), ('get', 0.14114239811897278)]\n",
      "[('move', 0.3082265555858612), ('agree', 0.24256595969200134), ('harmony', 0.22790206968784332), ('became', 0.21461224555969238), ('however', 0.20559725165367126), ('better', 0.20112060010433197), ('prevailed', 0.1879853457212448), ('many', 0.18443050980567932), ('supreme', 0.1825842261314392), ('local', 0.17690768837928772)]\n",
      "[('people', 0.3131487965583801), ('cr', 0.259164422750473), ('nation', 0.25630444288253784), ('midst', 0.21909962594509125), ('harmony', 0.21690768003463745), ('touching', 0.20658478140830994), ('countries', 0.20135490596294403), ('rest', 0.18740305304527283), ('covid-', 0.17308364808559418), ('agree', 0.16826148331165314)]\n",
      "[('harmony', 0.27805349230766296), ('struggle', 0.27043184638023376), ('people', 0.2204393595457077), ('connected', 0.2114519327878952), ('neighbour', 0.20631717145442963), ('fierce', 0.203806534409523), ('idea', 0.2034025490283966), ('world', 0.18864625692367554), ('daughters', 0.18776719272136688), ('self-reliant', 0.17126023769378662)]\n",
      "[('‘', 0.28148671984672546), ('self-reliant', 0.237760528922081), ('daughters', 0.2229832410812378), ('extended', 0.19102513790130615), ('harmony', 0.1860532909631729), ('flying', 0.18491974472999573), ('inspiration', 0.18394631147384644), ('solutions', 0.17715418338775635), ('eyes', 0.17695364356040955), ('crore', 0.1764698624610901)]\n",
      "[('issue', 0.21923363208770752), ('tried', 0.21509328484535217), ('new', 0.21444585919380188), ('inspiration', 0.21391354501247406), ('idea', 0.21096819639205933), ('world', 0.20849725604057312), ('people', 0.20103180408477783), ('daughters', 0.18684469163417816), ('eyes', 0.18621554970741272), ('modi', 0.1859663426876068)]\n",
      "[('bharat', 0.3236801028251648), ('development', 0.2697333097457886), ('raise', 0.23512014746665955), ('harmony', 0.22873641550540924), ('mind', 0.219697505235672), ('power', 0.1858447641134262), ('top', 0.18429476022720337), ('strength', 0.17993929982185364), ('realise', 0.17054875195026398), ('freedom', 0.16936688125133514)]\n",
      "[('lakhs', 0.29437631368637085), ('us.today', 0.2662404179573059), ('speech', 0.20918072760105133), ('decide', 0.19994759559631348), ('pm', 0.19286321103572845), ('struggle.amid', 0.19159549474716187), ('fierce', 0.1902536004781723), ('resolve', 0.18482151627540588), ('ram', 0.18226248025894165), ('journey', 0.18129563331604004)]\n"
     ]
    }
   ],
   "source": [
    "count=0\n",
    "for i in sent_word:\n",
    "    print(model.wv.most_similar(i,topn=10))\n",
    "    count+=1"
   ]
  },
  {
   "cell_type": "code",
   "execution_count": 14,
   "metadata": {},
   "outputs": [
    {
     "name": "stdout",
     "output_type": "stream",
     "text": [
      "18\n"
     ]
    }
   ],
   "source": [
    "print(count)"
   ]
  },
  {
   "cell_type": "code",
   "execution_count": 16,
   "metadata": {},
   "outputs": [
    {
     "name": "stderr",
     "output_type": "stream",
     "text": [
      "<ipython-input-16-7393036ed647>:8: DeprecationWarning: Call to deprecated `__getitem__` (Method will be removed in 4.0.0, use self.wv.__getitem__() instead).\n",
      "  wordvecs.append(model[word])\n"
     ]
    },
    {
     "data": {
      "image/png": "[encoded data removed]",
      "text/plain": [
       "<Figure size 720x576 with 1 Axes>"
      ]
     },
     "metadata": {
      "needs_background": "light"
     },
     "output_type": "display_data"
    }
   ],
   "source": [
    "from sklearn.manifold import  TSNE\n",
    "vocab = ['development','india','freedom','strength','harmony','world','border','forces','rulers','dignity','share','crores','fierce','sky','supreme','independence','pm','idea','better','power','mind']\n",
    "def tsne_plot(model):\n",
    "    labels = []\n",
    "    wordvecs = []\n",
    "\n",
    "    for word in vocab:\n",
    "        wordvecs.append(model[word])\n",
    "        labels.append(word)\n",
    "    \n",
    "    tsne_model = TSNE(perplexity=3, n_components=3, init='pca', random_state=42)\n",
    "    coordinates = tsne_model.fit_transform(wordvecs)\n",
    "\n",
    "    x = []\n",
    "    y = []\n",
    "    for value in coordinates:\n",
    "        x.append(value[0])\n",
    "        y.append(value[1])\n",
    "        \n",
    "    plt.figure(figsize=(10,8)) \n",
    "    for i in range(len(x)):\n",
    "        plt.scatter(x[i],y[i])\n",
    "        plt.annotate(labels[i],\n",
    "                     xy=(x[i], y[i]),\n",
    "                     xytext=(2, 2),\n",
    "                     textcoords='offset points', ha='left')\n",
    "\n",
    "    plt.show()\n",
    "\n",
    "tsne_plot(model)"
   ]
  },
  {
   "cell_type": "code",
   "execution_count": null,
   "metadata": {},
   "outputs": [],
   "source": []
  }
 ],
 "metadata": {
  "kernelspec": {
   "display_name": "Python 3",
   "language": "python",
   "name": "python3"
  },
  "language_info": {
   "codemirror_mode": {
    "name": "ipython",
    "version": 3
   },
   "file_extension": ".py",
   "mimetype": "text/x-python",
   "name": "python",
   "nbconvert_exporter": "python",
   "pygments_lexer": "ipython3",
   "version": "3.8.3"
  }
 },
 "nbformat": 4,
 "nbformat_minor": 4
}
